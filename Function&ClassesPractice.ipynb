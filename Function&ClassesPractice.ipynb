{
 "cells": [
  {
   "cell_type": "code",
   "execution_count": 2,
   "id": "37e3b7b7-5212-448b-a63d-0b2db15b40fe",
   "metadata": {},
   "outputs": [
    {
     "name": "stdout",
     "output_type": "stream",
     "text": [
      "Hello Python World\n"
     ]
    }
   ],
   "source": [
    "my_string = \"Hello Python World\" \n",
    "\n",
    "print (my_string[0:18])"
   ]
  },
  {
   "cell_type": "code",
   "execution_count": 3,
   "id": "68f6d3af-1b5c-44da-a892-0600148fa48a",
   "metadata": {},
   "outputs": [
    {
     "data": {
      "text/plain": [
       "18"
      ]
     },
     "execution_count": 3,
     "metadata": {},
     "output_type": "execute_result"
    }
   ],
   "source": [
    "len(my_string)"
   ]
  },
  {
   "cell_type": "code",
   "execution_count": 5,
   "id": "05cbc53f-3ce0-4d5f-8eb7-ee1a95844c3d",
   "metadata": {},
   "outputs": [
    {
     "name": "stdout",
     "output_type": "stream",
     "text": [
      "2\n",
      "3\n",
      "5\n",
      "7\n"
     ]
    }
   ],
   "source": [
    "primes = [2, 3, 5, 7] \n",
    "for prime in primes: \n",
    "    print(prime)"
   ]
  },
  {
   "cell_type": "code",
   "execution_count": 13,
   "id": "d3f2bdd3-1ecc-4a23-8dc6-ef2cca28ad5c",
   "metadata": {},
   "outputs": [
    {
     "name": "stdout",
     "output_type": "stream",
     "text": [
      "hello\n",
      "green\n",
      "blue\n",
      "orange\n"
     ]
    }
   ],
   "source": [
    "list_string = \"hello\", \"green\", \"blue\", \"orange\"\n",
    "\n",
    "string = list_string \n",
    "\n",
    "for string in list_string:\n",
    "    print(string)"
   ]
  },
  {
   "cell_type": "code",
   "execution_count": 3,
   "id": "ff2056a9-2ba1-44a2-afed-3c19f211087c",
   "metadata": {},
   "outputs": [
    {
     "data": {
      "text/plain": [
       "30"
      ]
     },
     "execution_count": 3,
     "metadata": {},
     "output_type": "execute_result"
    }
   ],
   "source": [
    "def multiplicaton_of_num(a, b, c): \n",
    "    return a * b * c\n",
    "\n",
    "multiplicaton_of_num(2, 3, 5,) \n"
   ]
  },
  {
   "cell_type": "code",
   "execution_count": 6,
   "id": "5833c4af-c3bd-4904-ac03-3e91bb5dccc1",
   "metadata": {},
   "outputs": [
    {
     "name": "stdout",
     "output_type": "stream",
     "text": [
      "Hello World\n",
      "Hello Gurt, from My Function. I wish you Happy Evening\n"
     ]
    },
    {
     "data": {
      "text/plain": [
       "1500"
      ]
     },
     "execution_count": 6,
     "metadata": {},
     "output_type": "execute_result"
    }
   ],
   "source": [
    "def my_function(): \n",
    "    print(\"Hello World\") \n",
    "\n",
    "def my_function_with_args(username, greeting): \n",
    "    print(\"Hello %s, from My Function. I wish you %s\" % (username, greeting))\n",
    "\n",
    "def multiplication_of_nums(a,b,c,d):\n",
    "    return a * b * c * d \n",
    "\n",
    "my_function()\n",
    "\n",
    "my_function_with_args(\"Gurt\", \"Happy Evening\")\n",
    "\n",
    "x = multiplication_of_nums(2,5,10,15)\n",
    "\n",
    "x"
   ]
  },
  {
   "cell_type": "code",
   "execution_count": 10,
   "id": "d15f75b2-1b67-4411-8c5e-0bea68abc5f8",
   "metadata": {},
   "outputs": [
    {
     "name": "stdout",
     "output_type": "stream",
     "text": [
      "More organized code is a benefit of programming!\n",
      "Easier readability is a benefit of programming!\n",
      "Increased productivity is a benefit of programming!\n",
      "Efficiency is prioritized is a benefit of programming!\n"
     ]
    }
   ],
   "source": [
    "def list_benefits(): \n",
    "    return \"More organized code\", \"Easier readability\", \"Increased productivity\", \"Efficiency is prioritized\"\n",
    "\n",
    "def build_sentence(benefit): \n",
    "    return \"%s is a benefit of programming!\" % benefit \n",
    "\n",
    "def final_outcome_benefits(): \n",
    "    benefit_list = list_benefits()\n",
    "    for benefit in benefit_list: \n",
    "        print(build_sentence(benefit))\n",
    "\n",
    "x = final_outcome_benefits()\n",
    "\n",
    "x"
   ]
  },
  {
   "cell_type": "code",
   "execution_count": 16,
   "id": "e63cc69f-8c12-4562-a102-feccec391f6f",
   "metadata": {},
   "outputs": [
    {
     "name": "stdout",
     "output_type": "stream",
     "text": [
      "blah\n",
      "Yackity\n"
     ]
    },
    {
     "data": {
      "text/plain": [
       "<bound method MyClass.function of <__main__.MyClass object at 0x7ff7441006e0>>"
      ]
     },
     "execution_count": 16,
     "metadata": {},
     "output_type": "execute_result"
    }
   ],
   "source": [
    "class MyClass: \n",
    "    variable = \"blah\" \n",
    "\n",
    "    def function(): \n",
    "        print(\"This is a message inside the class.\") \n",
    "\n",
    "myobjectx = MyClass()\n",
    "myobjecty = MyClass()\n",
    "\n",
    "myobjecty.variable = \"Yackity\"\n",
    "\n",
    "print(myobjectx.variable)\n",
    "print(myobjecty.variable)\n",
    "\n",
    "myobjectx.function"
   ]
  },
  {
   "cell_type": "code",
   "execution_count": 18,
   "id": "87551dec-83e6-4dfc-a70a-150875b68130",
   "metadata": {},
   "outputs": [
    {
     "name": "stdout",
     "output_type": "stream",
     "text": [
      "This is a message inside the class.\n"
     ]
    }
   ],
   "source": [
    "class MyClass: \n",
    "    variable = \"blah\" \n",
    "\n",
    "    def function(self): \n",
    "        print(\"This is a message inside the class.\") \n",
    "\n",
    "myobjectx = MyClass()\n",
    "\n",
    "myobjectx.function()"
   ]
  },
  {
   "cell_type": "code",
   "execution_count": 22,
   "id": "e768649c-a8ea-4440-90f0-1b606fa53bd3",
   "metadata": {},
   "outputs": [
    {
     "name": "stdout",
     "output_type": "stream",
     "text": [
      "7\n"
     ]
    }
   ],
   "source": [
    "class NumberHolder: \n",
    "    def _init__(self, number): #class is being initiated\n",
    "        self.number = number \n",
    "\n",
    "    def returnNumber(self): \n",
    "        return self.number\n",
    "\n",
    "var = NumberHolder(7)\n",
    "print(var.returnNumber())"
   ]
  },
  {
   "cell_type": "code",
   "execution_count": null,
   "id": "a62b90bd-ea73-4274-a3bd-80805054463b",
   "metadata": {},
   "outputs": [],
   "source": []
  }
 ],
 "metadata": {
  "kernelspec": {
   "display_name": "Python 3 (ipykernel)",
   "language": "python",
   "name": "python3"
  },
  "language_info": {
   "codemirror_mode": {
    "name": "ipython",
    "version": 3
   },
   "file_extension": ".py",
   "mimetype": "text/x-python",
   "name": "python",
   "nbconvert_exporter": "python",
   "pygments_lexer": "ipython3",
   "version": "3.13.5"
  }
 },
 "nbformat": 4,
 "nbformat_minor": 5
}
