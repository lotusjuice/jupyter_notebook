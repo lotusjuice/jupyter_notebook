{
 "cells": [
  {
   "cell_type": "code",
   "execution_count": 2,
   "id": "37e3b7b7-5212-448b-a63d-0b2db15b40fe",
   "metadata": {},
   "outputs": [
    {
     "name": "stdout",
     "output_type": "stream",
     "text": [
      "Hello Python World\n"
     ]
    }
   ],
   "source": [
    "my_string = \"Hello Python World\" \n",
    "\n",
    "print (my_string[0:18])"
   ]
  },
  {
   "cell_type": "code",
   "execution_count": 3,
   "id": "68f6d3af-1b5c-44da-a892-0600148fa48a",
   "metadata": {},
   "outputs": [
    {
     "data": {
      "text/plain": [
       "18"
      ]
     },
     "execution_count": 3,
     "metadata": {},
     "output_type": "execute_result"
    }
   ],
   "source": [
    "len(my_string)"
   ]
  },
  {
   "cell_type": "code",
   "execution_count": 5,
   "id": "05cbc53f-3ce0-4d5f-8eb7-ee1a95844c3d",
   "metadata": {},
   "outputs": [
    {
     "name": "stdout",
     "output_type": "stream",
     "text": [
      "2\n",
      "3\n",
      "5\n",
      "7\n"
     ]
    }
   ],
   "source": [
    "primes = [2, 3, 5, 7] \n",
    "for prime in primes: \n",
    "    print(prime)"
   ]
  },
  {
   "cell_type": "code",
   "execution_count": 13,
   "id": "d3f2bdd3-1ecc-4a23-8dc6-ef2cca28ad5c",
   "metadata": {},
   "outputs": [
    {
     "name": "stdout",
     "output_type": "stream",
     "text": [
      "hello\n",
      "green\n",
      "blue\n",
      "orange\n"
     ]
    }
   ],
   "source": [
    "list_string = \"hello\", \"green\", \"blue\", \"orange\"\n",
    "\n",
    "string = list_string \n",
    "\n",
    "for string in list_string:\n",
    "    print(string)"
   ]
  },
  {
   "cell_type": "code",
   "execution_count": 3,
   "id": "ff2056a9-2ba1-44a2-afed-3c19f211087c",
   "metadata": {},
   "outputs": [
    {
     "data": {
      "text/plain": [
       "30"
      ]
     },
     "execution_count": 3,
     "metadata": {},
     "output_type": "execute_result"
    }
   ],
   "source": [
    "def multiplicaton_of_num(a, b, c): \n",
    "    return a * b * c\n",
    "\n",
    "multiplicaton_of_num(2, 3, 5,) \n"
   ]
  },
  {
   "cell_type": "code",
   "execution_count": 6,
   "id": "5833c4af-c3bd-4904-ac03-3e91bb5dccc1",
   "metadata": {},
   "outputs": [
    {
     "name": "stdout",
     "output_type": "stream",
     "text": [
      "Hello World\n",
      "Hello Gurt, from My Function. I wish you Happy Evening\n"
     ]
    },
    {
     "data": {
      "text/plain": [
       "1500"
      ]
     },
     "execution_count": 6,
     "metadata": {},
     "output_type": "execute_result"
    }
   ],
   "source": [
    "def my_function(): \n",
    "    print(\"Hello World\") \n",
    "\n",
    "def my_function_with_args(username, greeting): \n",
    "    print(\"Hello %s, from My Function. I wish you %s\" % (username, greeting))\n",
    "\n",
    "def multiplication_of_nums(a,b,c,d):\n",
    "    return a * b * c * d \n",
    "\n",
    "my_function()\n",
    "\n",
    "my_function_with_args(\"Gurt\", \"Happy Evening\")\n",
    "\n",
    "x = multiplication_of_nums(2,5,10,15)\n",
    "\n",
    "x"
   ]
  },
  {
   "cell_type": "code",
   "execution_count": 10,
   "id": "d15f75b2-1b67-4411-8c5e-0bea68abc5f8",
   "metadata": {},
   "outputs": [
    {
     "name": "stdout",
     "output_type": "stream",
     "text": [
      "More organized code is a benefit of programming!\n",
      "Easier readability is a benefit of programming!\n",
      "Increased productivity is a benefit of programming!\n",
      "Efficiency is prioritized is a benefit of programming!\n"
     ]
    }
   ],
   "source": [
    "def list_benefits(): \n",
    "    return \"More organized code\", \"Easier readability\", \"Increased productivity\", \"Efficiency is prioritized\"\n",
    "\n",
    "def build_sentence(benefit): \n",
    "    return \"%s is a benefit of programming!\" % benefit \n",
    "\n",
    "def final_outcome_benefits(): \n",
    "    benefit_list = list_benefits()\n",
    "    for benefit in benefit_list: \n",
    "        print(build_sentence(benefit))\n",
    "\n",
    "x = final_outcome_benefits()\n",
    "\n",
    "x"
   ]
  },
  {
   "cell_type": "code",
   "execution_count": 16,
   "id": "e63cc69f-8c12-4562-a102-feccec391f6f",
   "metadata": {},
   "outputs": [
    {
     "name": "stdout",
     "output_type": "stream",
     "text": [
      "blah\n",
      "Yackity\n"
     ]
    },
    {
     "data": {
      "text/plain": [
       "<bound method MyClass.function of <__main__.MyClass object at 0x7ff7441006e0>>"
      ]
     },
     "execution_count": 16,
     "metadata": {},
     "output_type": "execute_result"
    }
   ],
   "source": [
    "class MyClass: \n",
    "    variable = \"blah\" \n",
    "\n",
    "    def function(): \n",
    "        print(\"This is a message inside the class.\") \n",
    "\n",
    "myobjectx = MyClass()\n",
    "myobjecty = MyClass()\n",
    "\n",
    "myobjecty.variable = \"Yackity\"\n",
    "\n",
    "print(myobjectx.variable)\n",
    "print(myobjecty.variable)\n",
    "\n",
    "myobjectx.function"
   ]
  },
  {
   "cell_type": "code",
   "execution_count": 18,
   "id": "87551dec-83e6-4dfc-a70a-150875b68130",
   "metadata": {},
   "outputs": [
    {
     "name": "stdout",
     "output_type": "stream",
     "text": [
      "This is a message inside the class.\n"
     ]
    }
   ],
   "source": [
    "class MyClass: \n",
    "    variable = \"blah\" \n",
    "\n",
    "    def function(self): \n",
    "        print(\"This is a message inside the class.\") \n",
    "\n",
    "myobjectx = MyClass()\n",
    "\n",
    "myobjectx.function()"
   ]
  },
  {
   "cell_type": "code",
   "execution_count": 22,
   "id": "e768649c-a8ea-4440-90f0-1b606fa53bd3",
   "metadata": {},
   "outputs": [
    {
     "name": "stdout",
     "output_type": "stream",
     "text": [
      "7\n"
     ]
    }
   ],
   "source": [
    "class NumberHolder: \n",
    "    def _init__(self, number): #class is being initiated\n",
    "        self.number = number \n",
    "\n",
    "    def returnNumber(self): \n",
    "        return self.number\n",
    "\n",
    "var = NumberHolder(7)\n",
    "print(var.returnNumber())"
   ]
  },
  {
   "cell_type": "code",
   "execution_count": 3,
   "id": "a62b90bd-ea73-4274-a3bd-80805054463b",
   "metadata": {},
   "outputs": [
    {
     "name": "stdout",
     "output_type": "stream",
     "text": [
      "Herbie is a White Buggie worth $20000.00\n",
      "Sam is a Red Sedan worth $10000.00\n"
     ]
    }
   ],
   "source": [
    "class Vehicle: \n",
    "    name = \"\"\n",
    "    color = \"\"\n",
    "    kind = \"\"\n",
    "    value = 100.00\n",
    "    def car_description(self): \n",
    "        car_desc = \"%s is a %s %s worth $%.2f\" % (self.name, self.color, self.kind, self.value)\n",
    "        return car_desc\n",
    "\n",
    "car1 = Vehicle()\n",
    "car1.name = \"Herbie\"\n",
    "car1.color = \"White\" \n",
    "car1.kind = \"Buggie\"\n",
    "car1.value = 20000.00\n",
    "\n",
    "car2 = Vehicle()\n",
    "car2.name = \"Sam\" \n",
    "car2.color = \"Red\" \n",
    "car2.kind = \"Sedan\" \n",
    "car2.value = 10000.00\n",
    "\n",
    "print(car1.car_description())\n",
    "print(car2.car_description())\n",
    "\n",
    "\n",
    "##"
   ]
  },
  {
   "cell_type": "code",
   "execution_count": 12,
   "id": "0be6f0b5-7352-499f-ac5a-747beb54bcff",
   "metadata": {},
   "outputs": [
    {
     "name": "stdout",
     "output_type": "stream",
     "text": [
      "Buggy is a Red Convertible worth $10000.00\n",
      "Machima is a Black Sedan worth $20000.00\n"
     ]
    }
   ],
   "source": [
    "class Vehicle: \n",
    "    def __init__(self, name: str, color: str, kind: str, value: float = 100.00):\n",
    "        self.name = name \n",
    "        self.color = color \n",
    "        self.kind = kind \n",
    "        self.value = float(value)\n",
    "\n",
    "    def car_description(self) -> str: \n",
    "        car_desc = \"%s is a %s %s worth $%.2f\" % (self.name, self.color, self.kind, self.value) \n",
    "        return car_desc\n",
    "\n",
    "car1 = Vehicle(\"Buggy\", \"Red\", \"Convertible\", 10000.00)\n",
    "car2 = Vehicle(\"Machima\", \"Black\", \"Sedan\", 20000.00)\n",
    "\n",
    "print(car1.car_description()) \n",
    "print(car2.car_description())"
   ]
  },
  {
   "cell_type": "code",
   "execution_count": 2,
   "id": "173c0ddb-5b76-4687-8c93-743410c1e4c4",
   "metadata": {},
   "outputs": [
    {
     "name": "stdout",
     "output_type": "stream",
     "text": [
      "{'John': 9255556789, 'Mark': 9356778903, 'Jenny': 9832342341, 'Avery': 9873445678}\n"
     ]
    }
   ],
   "source": [
    "phonebook = {}\n",
    "phonebook[\"John\"] = 9255556789\n",
    "phonebook[\"Mark\"] = 9356778903\n",
    "phonebook[\"Jenny\"] = 9832342341\n",
    "phonebook[\"Avery\"] = 9873445678\n",
    "\n",
    "print(phonebook)"
   ]
  },
  {
   "cell_type": "code",
   "execution_count": 4,
   "id": "5e09ac8a-a854-42d0-b39e-43a8f670f37d",
   "metadata": {},
   "outputs": [
    {
     "name": "stdout",
     "output_type": "stream",
     "text": [
      "{'John': 9255556789, 'Mark': 9356778903, 'Jenny': 9832342341, 'Avery': 9873445678}\n"
     ]
    }
   ],
   "source": [
    "phonebook = { \n",
    "    \"John\" : 9255556789, \n",
    "    \"Mark\" : 9356778903, \n",
    "    \"Jenny\" : 9832342341, \n",
    "    \"Avery\" : 9873445678 \n",
    "} \n",
    "print(phonebook)"
   ]
  },
  {
   "cell_type": "code",
   "execution_count": 7,
   "id": "4f4a969f-724c-483b-a323-9c6af600bf20",
   "metadata": {},
   "outputs": [
    {
     "name": "stdout",
     "output_type": "stream",
     "text": [
      "Phone numnber of John is 9255556789\n",
      "Phone numnber of Mark is 9356778903\n",
      "Phone numnber of Jenny is 9832342341\n",
      "Phone numnber of Avery is 9873445678\n"
     ]
    }
   ],
   "source": [
    "phonebook = {\"John\" : 9255556789, \"Mark\" : 9356778903, \"Jenny\" : 9832342341, \"Avery\" : 9873445678} \n",
    "\n",
    "for name, number in phonebook.items():\n",
    "    print(\"Phone numnber of %s is %d\" % (name, number)) "
   ]
  },
  {
   "cell_type": "code",
   "execution_count": 11,
   "id": "a8636653-3d67-4a37-a94f-ace38a4be497",
   "metadata": {},
   "outputs": [
    {
     "name": "stdout",
     "output_type": "stream",
     "text": [
      "{'Jenny': 9832342341, 'Avery': 9873445678}\n"
     ]
    }
   ],
   "source": [
    "phonebook = {}\n",
    "phonebook[\"John\"] = 9255556789\n",
    "phonebook[\"Mark\"] = 9356778903\n",
    "phonebook[\"Jenny\"] = 9832342341\n",
    "phonebook[\"Avery\"] = 9873445678\n",
    "\n",
    "del phonebook[\"Mark\"]\n",
    "phonebook.pop(\"John\")\n",
    "\n",
    "print(phonebook)"
   ]
  },
  {
   "cell_type": "code",
   "execution_count": 18,
   "id": "a24ed470-c9a0-4ae3-99c7-0f65da369cea",
   "metadata": {},
   "outputs": [
    {
     "name": "stdout",
     "output_type": "stream",
     "text": [
      "John is not in the phonebook\n",
      "Hannes has been added into the phonebook\n",
      "{'Mark': 9356778903, 'Jenny': 9832342341, 'Avery': 9873445678, 'Hannes': 93455678910}\n"
     ]
    }
   ],
   "source": [
    "phonebook = {}\n",
    "phonebook[\"John\"] = 9255556789\n",
    "phonebook[\"Mark\"] = 9356778903\n",
    "phonebook[\"Jenny\"] = 9832342341\n",
    "phonebook[\"Avery\"] = 9873445678\n",
    "\n",
    "phonebook.pop(\"John\") \n",
    "\n",
    "phonebook[\"Hannes\"] = 93455678910 \n",
    "\n",
    "if \"John\" not in phonebook: \n",
    "    print(\"John is not in the phonebook\") \n",
    "\n",
    "if \"Hannes\" in phonebook: \n",
    "    print(\"Hannes has been added into the phonebook\") \n",
    "\n",
    "print(phonebook)"
   ]
  },
  {
   "cell_type": "code",
   "execution_count": 22,
   "id": "deda8b16-0bc0-4723-bc45-aebdf59a6ff8",
   "metadata": {},
   "outputs": [
    {
     "name": "stdout",
     "output_type": "stream",
     "text": [
      "The phone number for Mark is 9356778903\n",
      "The phone number for Jenny is 9832342341\n",
      "The phone number for Avery is 9873445678\n",
      "The phone number for Hannes is 9345567891\n"
     ]
    }
   ],
   "source": [
    "phonebook = {\"John\" : 9255556789, \"Mark\" : 9356778903, \"Jenny\" : 9832342341, \"Avery\" : 9873445678} \n",
    "\n",
    "phonebook.pop(\"John\")\n",
    "phonebook[\"Hannes\"] = 9345567891\n",
    "\n",
    "for name, number in phonebook.items(): \n",
    "    print(\"The phone number for %s is %d\" % (name, number))"
   ]
  },
  {
   "cell_type": "code",
   "execution_count": 23,
   "id": "44d05abe-98fc-458b-925b-18f0a548aae9",
   "metadata": {},
   "outputs": [
    {
     "name": "stdout",
     "output_type": "stream",
     "text": [
      "Alice scored 90\n",
      "Bob scored 75\n",
      "Charlie scored 82\n"
     ]
    }
   ],
   "source": [
    "grades = {\"Alice\": 90, \"Bob\": 75, \"Charlie\": 82}\n",
    "\n",
    "for user, result in grades.items(): \n",
    "    print(\"%s scored %d\" % (user, result))"
   ]
  },
  {
   "cell_type": "code",
   "execution_count": 25,
   "id": "82acbea0-7c3e-4413-99d4-388c92a272b7",
   "metadata": {},
   "outputs": [
    {
     "name": "stdout",
     "output_type": "stream",
     "text": [
      "apple -> 3\n",
      "banana -> 5\n",
      "pear -> 2\n"
     ]
    }
   ],
   "source": [
    "items = {\"apple\": 3, \"banana\": 5, \"pear\": 2}\n",
    "\n",
    "for food, number in items.items(): \n",
    "    print(\"%s -> %d\" % (food, number))"
   ]
  },
  {
   "cell_type": "code",
   "execution_count": 28,
   "id": "b185ff8f-8fbb-4bd7-9e49-301a8c4d746d",
   "metadata": {},
   "outputs": [
    {
     "name": "stdout",
     "output_type": "stream",
     "text": [
      "Minecraft is a Sandbox game\n",
      "Halo is a Shooter game\n",
      "FIFA is a Sports game\n"
     ]
    }
   ],
   "source": [
    "games = {\"Minecraft\": \"Sandbox\", \"Halo\": \"Shooter\", \"FIFA\": \"Sports\"}\n",
    "\n",
    "for chicken, genre in games.items(): \n",
    "    print(\"%s is a %s game\" % (chicken, genre)) "
   ]
  },
  {
   "cell_type": "code",
   "execution_count": 29,
   "id": "d479dd8b-4b8b-4f4a-a5ce-f007ef5e454c",
   "metadata": {},
   "outputs": [
    {
     "name": "stdout",
     "output_type": "stream",
     "text": [
      "Dog : Rex\n",
      "Cat : Whiskers\n",
      "Fish : Goldie\n"
     ]
    }
   ],
   "source": [
    "pets = {\"Rex\": \"Dog\", \"Whiskers\": \"Cat\", \"Goldie\": \"Fish\"}\n",
    "\n",
    "for animal, name in pets.items(): \n",
    "    print(\"%s : %s\" % (name, animal))"
   ]
  },
  {
   "cell_type": "code",
   "execution_count": 1,
   "id": "b668f3fc-61e5-4500-9e37-1fa12b4dcab3",
   "metadata": {},
   "outputs": [
    {
     "name": "stdout",
     "output_type": "stream",
     "text": [
      "Coke has a stock of 5\n",
      "Pepsi is OUT of stock\n",
      "Water has a stock of 10\n"
     ]
    }
   ],
   "source": [
    "stock = {\"Coke\": 5, \"Pepsi\": 0, \"Water\": 10}\n",
    "\n",
    "while True: \n",
    "    for item, quantity in stock.items(): \n",
    "        if quantity > 0: \n",
    "            print(\"%s has a stock of %d\" % (item, quantity))\n",
    "        else: \n",
    "            print(\"%s is OUT of stock\" % (item))\n",
    "    break   "
   ]
  },
  {
   "cell_type": "code",
   "execution_count": 4,
   "id": "c904bbcd-9aed-4af4-a610-86c17a9cd092",
   "metadata": {},
   "outputs": [
    {
     "name": "stdout",
     "output_type": "stream",
     "text": [
      "Welcome to the vending machine!\n",
      "Coke has a quantity of (5 left)\n",
      "Pepsi has a quantity of (0 left)\n",
      "Water has a quantity of (10 left)\n"
     ]
    },
    {
     "name": "stdin",
     "output_type": "stream",
     "text": [
      "What item would you like today? :  Coke\n"
     ]
    },
    {
     "name": "stdout",
     "output_type": "stream",
     "text": [
      "Coke has a current quantity of 5\n",
      "Sufficient amount in vending machine. Enjoy your item\n",
      "The new quantity of Coke is 4\n"
     ]
    },
    {
     "name": "stdin",
     "output_type": "stream",
     "text": [
      "Would you like another item? : yes\n",
      "What item would you like today? :  Coke\n"
     ]
    },
    {
     "name": "stdout",
     "output_type": "stream",
     "text": [
      "Coke has a current quantity of 4\n",
      "Sufficient amount in vending machine. Enjoy your item\n",
      "The new quantity of Coke is 3\n"
     ]
    },
    {
     "name": "stdin",
     "output_type": "stream",
     "text": [
      "Would you like another item? : no\n"
     ]
    },
    {
     "name": "stdout",
     "output_type": "stream",
     "text": [
      "Thank you for shopping at the vending machine. Please come again soon\n"
     ]
    }
   ],
   "source": [
    "stock = {\"Coke\": 5, \"Pepsi\": 0, \"Water\": 10}\n",
    "\n",
    "print(\"Welcome to the vending machine!\")\n",
    "\n",
    "for item, quantity in stock.items(): \n",
    "    print(f\"{item} has a quantity of ({quantity} left)\")\n",
    "\n",
    "while True: \n",
    "    choice = input(\"What item would you like today? : \").strip().title() \n",
    "    if choice in stock: \n",
    "        quantity = stock[choice]\n",
    "        print(f\"{choice} has a current quantity of {quantity}\")\n",
    "        if stock[choice] > 0: \n",
    "            print(\"Sufficient amount in vending machine. Enjoy your item\")\n",
    "            stock[choice] -= 1 \n",
    "            print(f\"The new quantity of {choice} is {stock[choice]}\")\n",
    "            new_input = input(\"Would you like another item? :\")\n",
    "            if new_input == \"yes\": \n",
    "                continue\n",
    "            else: \n",
    "                print(\"Thank you for shopping at the vending machine. Please come again soon!\") \n",
    "                break \n",
    "        else: \n",
    "            print(f\"{choice} is not inside the vending machine. Please choose a valid item\")"
   ]
  },
  {
   "cell_type": "code",
   "execution_count": null,
   "id": "1a420ef4-1fc3-4061-9d51-c99bf7f08566",
   "metadata": {},
   "outputs": [
    {
     "name": "stdout",
     "output_type": "stream",
     "text": [
      "Welcome to the vending machine!\n",
      "Coke has a quantity of (5 left)\n",
      "Pepsi has a quantity of (0 left)\n",
      "Water has a quantity of (10 left)\n"
     ]
    },
    {
     "name": "stdin",
     "output_type": "stream",
     "text": [
      "What item would you like today? :  balls\n"
     ]
    },
    {
     "name": "stdout",
     "output_type": "stream",
     "text": [
      "Item is not in the vending machine\n",
      "Coke has a quantity of (5 left)\n",
      "Pepsi has a quantity of (0 left)\n",
      "Water has a quantity of (10 left)\n"
     ]
    }
   ],
   "source": [
    "stock = {\"Coke\": 5, \"Pepsi\": 0, \"Water\": 10}\n",
    "\n",
    "print(\"Welcome to the vending machine!\")\n",
    "\n",
    "def check_stock(): \n",
    "    for item, quantity in stock.items(): \n",
    "        print(f\"{item} has a quantity of ({quantity} left)\")\n",
    "\n",
    "while True:\n",
    "    check_stock()\n",
    "    choice = input(\"What item would you like today? : \").lower()\n",
    "    if choice not in stock:\n",
    "        print(\"Item is not in the vending machine\") \n",
    "    elif stock[choice] > 0:\n",
    "        quantity = stock[choice]\n",
    "        print(f\"{choice} has a current quantity of {quantity}\")\n",
    "        print(\"Sufficient amount in vending machine. Enjoy your item\")\n",
    "        stock[choice] -= 1 \n",
    "        print(f\"The new quantity of {choice} is {stock[choice]}\")\n",
    "        new_input = input(\"Would you like another item? :\")\n",
    "        if new_input == \"yes\": \n",
    "            continue\n",
    "        else: \n",
    "            print(\"Thank you for shopping at the vending machine. Please come again soon!\") \n",
    "            break \n",
    "    else: \n",
    "        print(f\"{choice} is out of stock. Please choose a valid item\")"
   ]
  },
  {
   "cell_type": "code",
   "execution_count": null,
   "id": "7ec7a948-a5fa-46ac-8f1b-d3a7f48452be",
   "metadata": {},
   "outputs": [],
   "source": []
  }
 ],
 "metadata": {
  "kernelspec": {
   "display_name": "Python 3 (ipykernel)",
   "language": "python",
   "name": "python3"
  },
  "language_info": {
   "codemirror_mode": {
    "name": "ipython",
    "version": 3
   },
   "file_extension": ".py",
   "mimetype": "text/x-python",
   "name": "python",
   "nbconvert_exporter": "python",
   "pygments_lexer": "ipython3",
   "version": "3.13.5"
  }
 },
 "nbformat": 4,
 "nbformat_minor": 5
}
