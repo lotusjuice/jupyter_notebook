{
 "cells": [
  {
   "cell_type": "code",
   "execution_count": null,
   "id": "b30afbda-490f-447d-ac65-36243b88b0c8",
   "metadata": {},
   "outputs": [],
   "source": [
    "user_input = input(\"Choose a number from 1-10\")\n",
    "\n",
    "num_input = int(user_input) \n",
    "\n",
    "if num_input >= 1 and num_input <= 10: \n",
    "    print(\"The answer is between 1-10\") \n",
    "else:\n",
    "    print(\"The number is outside the range\")\n"
   ]
  },
  {
   "cell_type": "code",
   "execution_count": null,
   "id": "a7bebc3b-9a84-4401-87a8-590e6e894ab3",
   "metadata": {},
   "outputs": [],
   "source": []
  }
 ],
 "metadata": {
  "kernelspec": {
   "display_name": "Python 3 (ipykernel)",
   "language": "python",
   "name": "python3"
  },
  "language_info": {
   "codemirror_mode": {
    "name": "ipython",
    "version": 3
   },
   "file_extension": ".py",
   "mimetype": "text/x-python",
   "name": "python",
   "nbconvert_exporter": "python",
   "pygments_lexer": "ipython3",
   "version": "3.13.5"
  }
 },
 "nbformat": 4,
 "nbformat_minor": 5
}
