{
 "cells": [
  {
   "cell_type": "code",
   "execution_count": null,
   "id": "7e45c561-6c77-45c5-b1e3-a86117f9c5e6",
   "metadata": {},
   "outputs": [
    {
     "name": "stdout",
     "output_type": "stream",
     "text": [
      "Welcome to the vending machine!\n"
     ]
    }
   ],
   "source": [
    "# Creates a nested dictionary for all the items inside the vending machine. \n",
    "# Has a key that links to 3 diff key value pairs inside the nested dictionary\n",
    "vending_machine = {\n",
    "    \"A1\": {\"Item\": \"Hot Cheetos\", \"Price\": 2.00, \"Quantity\": 10}, \n",
    "    \"A2\": {\"Item\": \"Doritos\", \"Price\": 1.75, \"Quantity\": 10}, \n",
    "    \"A3\": {\"Item\": \"Funyons\", \"Price\": 1.50, \"Quantity\": 10},\n",
    "    \"A4\": {\"Item\": \"Takis\", \"Price\": 1.69, \"Quantity\": 10},\n",
    "    \"A5\": {\"Item\": \"Popcorn\", \"Price\": 1.00, \"Quantity\": 10},\n",
    "    \"A6\": {\"Item\": \"Matcha\", \"Price\": 3.00, \"Quantity\": 10},\n",
    "    \"A7\": {\"Item\": \"Sprite\", \"Price\": 1.00, \"Quantity\": 10},\n",
    "    \"A8\": {\"Item\": \"Coke\", \"Price\": 0.99, \"Quantity\": 10}, \n",
    "    \"A9\": {\"Item\": \"Lemonade\", \"Price\": 1.00, \"Quantity\": 10},\n",
    "    \"A10\": {\"Item\": \"Iced-Tea\", \"Price\": 0.50, \"Quantity\": 10},\n",
    "}\n",
    "\n",
    "# Welcomes the user to the vending machine. \n",
    "print(\"Welcome to the vending machine!\")\n",
    "\n",
    "money_inside = 500 \n",
    "\n",
    "# Creates a function that updates the quantity of an item inside the vending machine after an item is chosen. \n",
    "def updated_value(vending_machine, user_input):\n",
    "    vending_machine[user_input][\"Quantity\"] -= 1 \n",
    "    new_quantity = vending_machine[user_input][\"Quantity\"]\n",
    "    print(f\"The new updated quantity of {user_input} is {new_quantity}.\")\n",
    "    if new_quantity == 0: \n",
    "        print(f\"{item} are out of stock. Please choose another item.\")\n",
    "    return new_quantity\n",
    "\n",
    "def money_inside(): \n",
    "    \n",
    "# Creates a while true loop that runs as long as whatever is inside the loop is true\n",
    "while True: \n",
    "    # Asks the user for their input and result is stored inside the user_input var \n",
    "    user_input = input(\"What item would you like today? : \")\n",
    "    user_input = user_input.upper().strip()\n",
    "\n",
    "    if user_input in vending_machine: # Checks if what the user inputted is inside the vending machine \n",
    "        item = vending_machine[user_input][\"Item\"] # Creates a variable named item that holds everything from the right. nested dic/up\n",
    "        quantity = vending_machine[user_input][\"Quantity\"] # Same as above\n",
    "        price = vending_machine[user_input][\"Price\"] # Same as above \n",
    "        print(f\"The current quantity of {item} is {quantity}\") # Uses f string, and prints the current quantity of item, since they are def \n",
    "        price_input = float(input(f\"The price of {item} is {price:.2f}. Please enter the required amount: \")) \n",
    "\n",
    "        if price_input == price: # Creates an if statement. if user enters correct amount, print statement is ran. \n",
    "            print(\"The required amount has been entered. Have a nice day.\")\n",
    "            updated_value(vending_machine, user_input) # updated_value function is ran, updates quantity of selected items \n",
    "\n",
    "        else: # Else statement is ran if previously created if statement is not true. \n",
    "            if price_input < price: # if user enters less thant the actual amount for the item, if statement is ran \n",
    "                amount_needed = price - price_input \n",
    "                remainder_input = float(input(f\" Incomplete amount entered. Please insert {amount_needed:.2f} in order to complete transaction: \"))\n",
    "                updated_amount = amount_needed + remainder_input\n",
    "                if updated_amount== price:\n",
    "                    print(\"Correct amount has been entered. Enjoy your item.\")\n",
    "                    updated_value(vending_machine, user_input)\n",
    "            elif price_input > price: # else if statement is ran if previous else statements is not true \n",
    "                left_over = price_input - price # takes the price_input and subtracts it from price and assigns result to left_over var \n",
    "                print(f\"Extra amount entered. The remaining change is {left_over:.2f}. Enjoy your item.\")\n",
    "                updated_value(vending_machine, user_input) # updated_value function is ran, updates quantity of selected items \n",
    "    else:\n",
    "        print(\"Item not found. Please enter a valid item code\") # While loop ends if incorrect item is entered. \n",
    "        break # Breaks the while loop, prevents it from going on forever \n",
    "    \n",
    "    # Asks the user if they would like another item from the vending machine after first successfull transaction. \n",
    "    another_item = input(\"Would you like another item? (yes or no)\").strip().lower() \n",
    "    if another_item == \"yes\": \n",
    "        print(\"You will be prompted to enter an item code shortly.\")\n",
    "    elif another_item != \"yes\": # If users input is not equal to \"yes\", the elif statement is ran and the program terminates. \n",
    "        print(\"Thank you for choosing an item from the vending machine. Have a nice day. Please come again next time!\")\n",
    "        updated_value(vending_machine, user_input)\n",
    "        break # updated_value function is ran, updates quantity of selected items \n",
    "        "
   ]
  },
  {
   "cell_type": "code",
   "execution_count": null,
   "id": "5bb9730a-57a7-4e7e-85c3-ab71591436cd",
   "metadata": {},
   "outputs": [],
   "source": []
  },
  {
   "cell_type": "code",
   "execution_count": null,
   "id": "b5bb9a68-64fa-4cdd-9edb-bb71e5e380ce",
   "metadata": {},
   "outputs": [],
   "source": []
  },
  {
   "cell_type": "code",
   "execution_count": null,
   "id": "aa350d6a-820f-4a18-ad12-1c4c2d353a44",
   "metadata": {},
   "outputs": [],
   "source": []
  },
  {
   "cell_type": "code",
   "execution_count": null,
   "id": "e723e16b-f83f-4494-92b7-290a353be6e2",
   "metadata": {},
   "outputs": [],
   "source": []
  },
  {
   "cell_type": "code",
   "execution_count": null,
   "id": "05326657-d8c6-425e-9d7b-7fa144a207ae",
   "metadata": {},
   "outputs": [],
   "source": []
  },
  {
   "cell_type": "code",
   "execution_count": null,
   "id": "932c349e-b626-4958-9544-9e0de7cfe6d6",
   "metadata": {},
   "outputs": [],
   "source": []
  }
 ],
 "metadata": {
  "kernelspec": {
   "display_name": "Python 3 (ipykernel)",
   "language": "python",
   "name": "python3"
  },
  "language_info": {
   "codemirror_mode": {
    "name": "ipython",
    "version": 3
   },
   "file_extension": ".py",
   "mimetype": "text/x-python",
   "name": "python",
   "nbconvert_exporter": "python",
   "pygments_lexer": "ipython3",
   "version": "3.13.5"
  }
 },
 "nbformat": 4,
 "nbformat_minor": 5
}
