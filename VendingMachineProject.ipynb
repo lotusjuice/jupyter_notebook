{
 "cells": [
  {
   "cell_type": "code",
   "execution_count": 1,
   "id": "7e45c561-6c77-45c5-b1e3-a86117f9c5e6",
   "metadata": {},
   "outputs": [
    {
     "name": "stdout",
     "output_type": "stream",
     "text": [
      "Welcome to the vending machine.\n"
     ]
    },
    {
     "name": "stdin",
     "output_type": "stream",
     "text": [
      "What item would you like today:  A6\n"
     ]
    },
    {
     "name": "stdout",
     "output_type": "stream",
     "text": [
      "Item not found. Please enter a valid item code\n"
     ]
    }
   ],
   "source": [
    "#Creates a nested dictionary for all the items inside the vending machine. \n",
    "#Has a key that links to 3 diff key value pairs inside the nested dictionary\n",
    "vending_machine = {\n",
    "    \"A1\": {\"Item\": \"Hot Cheetos\", \"Price\": 2.00, \"Quantity\": 10}, \n",
    "    \"A2\": {\"Item\": \"Doritos\", \"Price\": 1.75, \"Quantity\": 10}, \n",
    "    \"A3\": {\"Item\": \"Funyons\", \"Price\": 1.50, \"Quantity\": 10},\n",
    "    \"A4\": {\"Item\": \"Takis\", \"Price\": 1.69, \"Quantity\": 10},\n",
    "    \"A5\": {\"Item\": \"Popcorn\", \"Price\": 1.00, \"Quantity\": 10},\n",
    "} \n",
    "\n",
    "# Welcomes the user to the vending machine. \n",
    "print(\"Welcome to the vending machine.\")\n",
    "\n",
    "# Asks the user for thier input and result is stored inside the user_input var \n",
    "user_input = input(\"What item would you like today: \")\n",
    "user_input = user_input.upper().strip()\n",
    "\n",
    "#\n",
    "while True: \n",
    "    if user_input in vending_machine:\n",
    "        item = vending_machine[user_input][\"Item\"]\n",
    "        quantity = vending_machine[user_input][\"Quantity\"]\n",
    "        price = vending_machine[user_input][\"Price\"] \n",
    "        print(f\"The current quantity of {item} is {quantity}\")\n",
    "        price_input = float(input(f\"The price of {item} is {price:.2f}. Please enter the required amount: \"))  \n",
    "\n",
    "        if price_input == price: \n",
    "            print(\"The required amount has been entered. Have a nice day.\")\n",
    "\n",
    "        else: \n",
    "            if price_input < price: \n",
    "                amount_needed = price - price_input \n",
    "                remainder_input = float(input(f\" Incomplete amount entered. Please insert {amount_needed:.2f} in order to complete transaction: \"))\n",
    "                updated_amount = amount_needed + remainder_input\n",
    "                if updated_amount== price:\n",
    "                    print(\"Correct amount has been entered. Enjoy your item.\") \n",
    "            elif price_input > price: \n",
    "                left_over = price_input - price\n",
    "                print(f\"Extra amount entered. The remaining change is {left_over:.2f}. Enjoy your item.\")\n",
    "    else:\n",
    "        print(\"Item not found. Please enter a valid item code\")\n",
    "        break\n",
    "\n",
    "        input(\"Would you like another item\") \n",
    "        "
   ]
  },
  {
   "cell_type": "code",
   "execution_count": null,
   "id": "05326657-d8c6-425e-9d7b-7fa144a207ae",
   "metadata": {},
   "outputs": [],
   "source": []
  }
 ],
 "metadata": {
  "kernelspec": {
   "display_name": "Python 3 (ipykernel)",
   "language": "python",
   "name": "python3"
  },
  "language_info": {
   "codemirror_mode": {
    "name": "ipython",
    "version": 3
   },
   "file_extension": ".py",
   "mimetype": "text/x-python",
   "name": "python",
   "nbconvert_exporter": "python",
   "pygments_lexer": "ipython3",
   "version": "3.13.5"
  }
 },
 "nbformat": 4,
 "nbformat_minor": 5
}
