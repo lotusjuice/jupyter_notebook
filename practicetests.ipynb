{
 "cells": [
  {
   "cell_type": "code",
   "execution_count": 1,
   "id": "d2df6c3d-d04a-41a2-a989-03245041417d",
   "metadata": {},
   "outputs": [
    {
     "data": {
      "text/plain": [
       "'Acura'"
      ]
     },
     "execution_count": 1,
     "metadata": {},
     "output_type": "execute_result"
    }
   ],
   "source": [
    "cars_list = ['Toyota', 'Honda', 'Acura', 'Lexus', 'Mitsubishi', 'Nissan', 'Pagani', 'Lotus'] \n",
    "\n",
    "cars_list[2] "
   ]
  },
  {
   "cell_type": "code",
   "execution_count": 3,
   "id": "6fe7982e-1f53-4060-b033-3bb0641a2be1",
   "metadata": {},
   "outputs": [
    {
     "name": "stdout",
     "output_type": "stream",
     "text": [
      "Acura\n"
     ]
    }
   ],
   "source": [
    "print(cars_list[2]) "
   ]
  },
  {
   "cell_type": "code",
   "execution_count": 5,
   "id": "5faa8a62-0c09-4ecf-a6b6-ee457b1272de",
   "metadata": {},
   "outputs": [
    {
     "name": "stdout",
     "output_type": "stream",
     "text": [
      "['Toyota', 'Honda', 'Acura', 'Lexus', 'Mitsubishi', 'Nissan', 'Pagani', 'Lotus', 'Hyundai', 'Hyundai']\n"
     ]
    }
   ],
   "source": [
    "cars_list.append('Hyundai')\n",
    "\n",
    "print(cars_list)"
   ]
  },
  {
   "cell_type": "code",
   "execution_count": 6,
   "id": "c81b234a-b25e-4fe8-bcf6-e504a2594fbb",
   "metadata": {},
   "outputs": [
    {
     "data": {
      "text/plain": [
       "10"
      ]
     },
     "execution_count": 6,
     "metadata": {},
     "output_type": "execute_result"
    }
   ],
   "source": [
    "len(cars_list)"
   ]
  },
  {
   "cell_type": "code",
   "execution_count": 7,
   "id": "6081609b-b6fb-4cd0-a3e3-67022aa74bca",
   "metadata": {},
   "outputs": [
    {
     "name": "stdout",
     "output_type": "stream",
     "text": [
      "['Toyota', 'Honda', 'Acura', 'Lexus', 'Mitsubishi', 'Subaru', 'Nissan', 'Pagani', 'Lotus', 'Hyundai', 'Hyundai']\n"
     ]
    }
   ],
   "source": [
    "cars_list.insert(5, 'Subaru')\n",
    "\n",
    "print(cars_list)"
   ]
  },
  {
   "cell_type": "code",
   "execution_count": 8,
   "id": "65753f21-4528-4027-a707-7da8662d883d",
   "metadata": {},
   "outputs": [],
   "source": [
    "cars_list.append('Ferrari') "
   ]
  },
  {
   "cell_type": "code",
   "execution_count": 9,
   "id": "edd5f4bd-9d52-49da-9085-8644ea007837",
   "metadata": {},
   "outputs": [
    {
     "data": {
      "text/plain": [
       "['Toyota',\n",
       " 'Honda',\n",
       " 'Acura',\n",
       " 'Lexus',\n",
       " 'Mitsubishi',\n",
       " 'Subaru',\n",
       " 'Nissan',\n",
       " 'Pagani',\n",
       " 'Lotus',\n",
       " 'Hyundai',\n",
       " 'Hyundai',\n",
       " 'Ferrari']"
      ]
     },
     "execution_count": 9,
     "metadata": {},
     "output_type": "execute_result"
    }
   ],
   "source": [
    "cars_list"
   ]
  },
  {
   "cell_type": "code",
   "execution_count": 10,
   "id": "f45e2353-6b26-4757-8892-a8d2047f45a5",
   "metadata": {},
   "outputs": [
    {
     "data": {
      "text/plain": [
       "12"
      ]
     },
     "execution_count": 10,
     "metadata": {},
     "output_type": "execute_result"
    }
   ],
   "source": [
    "len(cars_list)"
   ]
  },
  {
   "cell_type": "code",
   "execution_count": 11,
   "id": "5a8bc5c5-4c0b-4be7-a6bd-f07fc3e0baf6",
   "metadata": {},
   "outputs": [],
   "source": [
    "cars_list.insert(12, 'Alfa Romeo')"
   ]
  },
  {
   "cell_type": "code",
   "execution_count": 12,
   "id": "c53a352b-f378-4f69-b4d9-6a63b27cb00f",
   "metadata": {},
   "outputs": [
    {
     "data": {
      "text/plain": [
       "['Toyota',\n",
       " 'Honda',\n",
       " 'Acura',\n",
       " 'Lexus',\n",
       " 'Mitsubishi',\n",
       " 'Subaru',\n",
       " 'Nissan',\n",
       " 'Pagani',\n",
       " 'Lotus',\n",
       " 'Hyundai',\n",
       " 'Hyundai',\n",
       " 'Ferrari',\n",
       " 'Alfa Romeo']"
      ]
     },
     "execution_count": 12,
     "metadata": {},
     "output_type": "execute_result"
    }
   ],
   "source": [
    "cars_list "
   ]
  },
  {
   "cell_type": "code",
   "execution_count": 13,
   "id": "57a63630-116a-4623-85a8-c9911b1b0eb7",
   "metadata": {},
   "outputs": [
    {
     "data": {
      "text/plain": [
       "['Toyota',\n",
       " 'Honda',\n",
       " 'Acura',\n",
       " 'Lexus',\n",
       " 'Mitsubishi',\n",
       " 'Subaru',\n",
       " 'Nissan',\n",
       " 'Pagani',\n",
       " 'Lotus',\n",
       " 'Hyundai',\n",
       " 'Hyundai',\n",
       " 'Ferrari',\n",
       " 'Alfa Romeo',\n",
       " 'Volkswagen']"
      ]
     },
     "execution_count": 13,
     "metadata": {},
     "output_type": "execute_result"
    }
   ],
   "source": [
    "cars_list.insert(15, 'Volkswagen')\n",
    "\n",
    "cars_list"
   ]
  },
  {
   "cell_type": "code",
   "execution_count": 14,
   "id": "49bffc1a-4ad0-45d5-a49d-1753b26df71e",
   "metadata": {},
   "outputs": [
    {
     "data": {
      "text/plain": [
       "14"
      ]
     },
     "execution_count": 14,
     "metadata": {},
     "output_type": "execute_result"
    }
   ],
   "source": [
    "len(cars_list)"
   ]
  },
  {
   "cell_type": "code",
   "execution_count": 16,
   "id": "03f63d3c-0e81-4638-904f-dfd896bef8b1",
   "metadata": {},
   "outputs": [
    {
     "name": "stdout",
     "output_type": "stream",
     "text": [
      "Bugatti\n"
     ]
    }
   ],
   "source": [
    "cars_list2 = ['Lambo', 'Bugatti', 'Rolls-Royce'] \n",
    "\n",
    "print(cars_list2[1])"
   ]
  },
  {
   "cell_type": "code",
   "execution_count": 1,
   "id": "aececf66-f9bb-4c18-9158-357036cbeb52",
   "metadata": {},
   "outputs": [
    {
     "name": "stdout",
     "output_type": "stream",
     "text": [
      "Loop iteration: 0\n",
      "Loop iteration: 1\n",
      "Loop iteration: 2\n",
      "Loop iteration: 3\n",
      "Loop iteration: 4\n"
     ]
    }
   ],
   "source": [
    "\n",
    "    "
   ]
  },
  {
   "cell_type": "code",
   "execution_count": null,
   "id": "41ec696f-f000-454d-83db-25b6b7111c9e",
   "metadata": {},
   "outputs": [],
   "source": []
  }
 ],
 "metadata": {
  "kernelspec": {
   "display_name": "Python 3 (ipykernel)",
   "language": "python",
   "name": "python3"
  },
  "language_info": {
   "codemirror_mode": {
    "name": "ipython",
    "version": 3
   },
   "file_extension": ".py",
   "mimetype": "text/x-python",
   "name": "python",
   "nbconvert_exporter": "python",
   "pygments_lexer": "ipython3",
   "version": "3.13.5"
  }
 },
 "nbformat": 4,
 "nbformat_minor": 5
}
